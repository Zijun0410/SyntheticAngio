{
 "cells": [
  {
   "cell_type": "code",
   "execution_count": null,
   "metadata": {},
   "outputs": [],
   "source": [
    "class Trainer(object):\n",
    "    \"\"\"docstring for Trainer\"\"\"\n",
    "    def __init__(self, model_kwags, data_kwags, optim_kwags, schedular_kwags, \n",
    "    metric_kwags, loss_kwags, training_kwags, monitor_kwags, infor_kwags):\n",
    "\n",
    "    self.model = self.init_class(module_arch, model_kwags)\n",
    "\n",
    "    def init_attribute(self, kwargs):\n",
    "        for key in kwargs:\n",
    "            setattr(self, key, kwargs[key])\n",
    "\n",
    "    def init_class(self, module, class_kwags, *args, **kwargs):\n",
    "        module_name = class_kwags['type']\n",
    "        module_args = dict(class_kwags['args'])\n",
    "        module_args.update(kwargs)\n",
    "        return getattr(module, module_name)(*args, **module_args)"
   ]
  }
 ],
 "metadata": {
  "kernelspec": {
   "display_name": "Python 3.8.6 64-bit",
   "language": "python",
   "name": "python3"
  },
  "language_info": {
   "name": "python",
   "version": "3.8.6"
  },
  "orig_nbformat": 4,
  "vscode": {
   "interpreter": {
    "hash": "a76d69af98c46dbb1cefb8151a587835d52ba331b150bf792954efa39087dbf2"
   }
  }
 },
 "nbformat": 4,
 "nbformat_minor": 2
}
