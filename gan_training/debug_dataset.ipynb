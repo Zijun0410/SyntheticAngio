{
 "cells": [
  {
   "cell_type": "markdown",
   "metadata": {},
   "source": [
    "#### 1. The Real Image Dataset"
   ]
  },
  {
   "cell_type": "code",
   "execution_count": 66,
   "metadata": {},
   "outputs": [],
   "source": [
    "import torch.utils.data as D\n",
    "from pathlib import Path\n",
    "import pandas as pd\n",
    "from PIL import Image\n",
    "import torchvision.transforms as transforms"
   ]
  },
  {
   "cell_type": "code",
   "execution_count": 67,
   "metadata": {},
   "outputs": [
    {
     "name": "stdout",
     "output_type": "stream",
     "text": [
      "The autoreload extension is already loaded. To reload it, use:\n",
      "  %reload_ext autoreload\n"
     ]
    }
   ],
   "source": [
    "%load_ext autoreload\n",
    "%autoreload 2"
   ]
  },
  {
   "cell_type": "code",
   "execution_count": 68,
   "metadata": {},
   "outputs": [],
   "source": [
    "from torchvision import transforms\n",
    "\n",
    "basic_transformations = transforms.Compose(\n",
    "    [\n",
    "        transforms.PILToTensor(),\n",
    "        # transforms.Lambda(crop_my_image),\n",
    "    ]\n",
    ")"
   ]
  },
  {
   "cell_type": "code",
   "execution_count": 69,
   "metadata": {},
   "outputs": [],
   "source": [
    "# Define the root path\n",
    "def return_root_path():\n",
    "    \"\"\" Return the root path for data saving given the current OS \"\"\"\n",
    "    if Path.cwd().as_posix().startswith('/'):\n",
    "        return Path('/nfs/turbo/med-kayvan-lab/')\n",
    "    return Path('Z:/')\n",
    "\n",
    "# Map the name of the transformation to the function\n",
    "transformation_dict = dict(zip(['basic'], [basic_transformations]))\n",
    "\n",
    "class RealImage(D.Dataset):\n",
    "    \"\"\"\n",
    "    Dataset for Real X-ray Angiograhy Images\n",
    "    Input:\n",
    "        dir_list <list of python string>: include the directory of the image\n",
    "        file_name <python string>: the name of the csv file that contains the information of the image\n",
    "        transform <python string>: the name of the transformation\n",
    "    \"\"\"\n",
    "    def __init__(self, dir_list, transform='basic', file_name='image_infor.csv'):\n",
    "        super(RealImage, self).__init__()\n",
    "        self.dir_list = dir_list\n",
    "        self.file_name = file_name\n",
    "        self.image_infor = self.get_image_infor()\n",
    "        self.root_path = return_root_path()\n",
    "        self.transform = transformation_dict[transform]\n",
    "\n",
    "    def get_image_infor(self):\n",
    "        for i, dir_ in enumerate(self.dir_list):\n",
    "            image_infor = pd.read_csv(Path(dir_) / self.file_name)\n",
    "            if i == 0:\n",
    "                df_combined = image_infor\n",
    "            else:\n",
    "                df_combined = df_combined.append(image_infor)\n",
    "        return df_combined\n",
    "    \n",
    "    def adjust_dir(self, str_dir):\n",
    "        image_dir = Path(str_dir.replace('+', '/'))\n",
    "        return self.root_path / image_dir.relative_to(\"Z:/\")\n",
    "\n",
    "    def __getitem__(self, index):\n",
    "        str_dir = self.image_infor.iloc[index, 1]\n",
    "        image_raw = Image.open(self.adjust_dir(str_dir)).convert(\"L\")\n",
    "        image = self.transform(image_raw)\n",
    "        return image\n",
    "\n",
    "    def __len__(self):\n",
    "        return len(self.image_infor)\n",
    "\n"
   ]
  },
  {
   "cell_type": "code",
   "execution_count": 70,
   "metadata": {},
   "outputs": [],
   "source": [
    "umr_dir=Path(r'Z:\\Projects\\Angiogram\\Data\\Processed\\Zijun\\Synthetic\\Real_Image\\UMR\\Full')\n",
    "ukr_dir=Path(r'Z:\\Projects\\Angiogram\\Data\\Processed\\Zijun\\Synthetic\\Real_Image\\UKR\\Full')\n",
    "dir_list = [umr_dir, ukr_dir]\n",
    "file_name = 'image_infor.csv'\n",
    "real_image = RealImage(dir_list, file_name=file_name)\n"
   ]
  },
  {
   "cell_type": "code",
   "execution_count": 71,
   "metadata": {},
   "outputs": [
    {
     "data": {
      "text/html": [
       "<div>\n",
       "<style scoped>\n",
       "    .dataframe tbody tr th:only-of-type {\n",
       "        vertical-align: middle;\n",
       "    }\n",
       "\n",
       "    .dataframe tbody tr th {\n",
       "        vertical-align: top;\n",
       "    }\n",
       "\n",
       "    .dataframe thead th {\n",
       "        text-align: right;\n",
       "    }\n",
       "</style>\n",
       "<table border=\"1\" class=\"dataframe\">\n",
       "  <thead>\n",
       "    <tr style=\"text-align: right;\">\n",
       "      <th></th>\n",
       "      <th>index</th>\n",
       "      <th>save_dir</th>\n",
       "    </tr>\n",
       "  </thead>\n",
       "  <tbody>\n",
       "    <tr>\n",
       "      <th>0</th>\n",
       "      <td>1</td>\n",
       "      <td>Z:+Projects+Angiogram+Data+Processed+Zijun+Syn...</td>\n",
       "    </tr>\n",
       "    <tr>\n",
       "      <th>1</th>\n",
       "      <td>2</td>\n",
       "      <td>Z:+Projects+Angiogram+Data+Processed+Zijun+Syn...</td>\n",
       "    </tr>\n",
       "    <tr>\n",
       "      <th>2</th>\n",
       "      <td>3</td>\n",
       "      <td>Z:+Projects+Angiogram+Data+Processed+Zijun+Syn...</td>\n",
       "    </tr>\n",
       "    <tr>\n",
       "      <th>3</th>\n",
       "      <td>4</td>\n",
       "      <td>Z:+Projects+Angiogram+Data+Processed+Zijun+Syn...</td>\n",
       "    </tr>\n",
       "    <tr>\n",
       "      <th>4</th>\n",
       "      <td>5</td>\n",
       "      <td>Z:+Projects+Angiogram+Data+Processed+Zijun+Syn...</td>\n",
       "    </tr>\n",
       "    <tr>\n",
       "      <th>...</th>\n",
       "      <td>...</td>\n",
       "      <td>...</td>\n",
       "    </tr>\n",
       "    <tr>\n",
       "      <th>1168</th>\n",
       "      <td>1169</td>\n",
       "      <td>Z:+Projects+Angiogram+Data+Processed+Zijun+Syn...</td>\n",
       "    </tr>\n",
       "    <tr>\n",
       "      <th>1169</th>\n",
       "      <td>1170</td>\n",
       "      <td>Z:+Projects+Angiogram+Data+Processed+Zijun+Syn...</td>\n",
       "    </tr>\n",
       "    <tr>\n",
       "      <th>1170</th>\n",
       "      <td>1171</td>\n",
       "      <td>Z:+Projects+Angiogram+Data+Processed+Zijun+Syn...</td>\n",
       "    </tr>\n",
       "    <tr>\n",
       "      <th>1171</th>\n",
       "      <td>1172</td>\n",
       "      <td>Z:+Projects+Angiogram+Data+Processed+Zijun+Syn...</td>\n",
       "    </tr>\n",
       "    <tr>\n",
       "      <th>1172</th>\n",
       "      <td>1173</td>\n",
       "      <td>Z:+Projects+Angiogram+Data+Processed+Zijun+Syn...</td>\n",
       "    </tr>\n",
       "  </tbody>\n",
       "</table>\n",
       "<p>2268 rows × 2 columns</p>\n",
       "</div>"
      ],
      "text/plain": [
       "      index                                           save_dir\n",
       "0         1  Z:+Projects+Angiogram+Data+Processed+Zijun+Syn...\n",
       "1         2  Z:+Projects+Angiogram+Data+Processed+Zijun+Syn...\n",
       "2         3  Z:+Projects+Angiogram+Data+Processed+Zijun+Syn...\n",
       "3         4  Z:+Projects+Angiogram+Data+Processed+Zijun+Syn...\n",
       "4         5  Z:+Projects+Angiogram+Data+Processed+Zijun+Syn...\n",
       "...     ...                                                ...\n",
       "1168   1169  Z:+Projects+Angiogram+Data+Processed+Zijun+Syn...\n",
       "1169   1170  Z:+Projects+Angiogram+Data+Processed+Zijun+Syn...\n",
       "1170   1171  Z:+Projects+Angiogram+Data+Processed+Zijun+Syn...\n",
       "1171   1172  Z:+Projects+Angiogram+Data+Processed+Zijun+Syn...\n",
       "1172   1173  Z:+Projects+Angiogram+Data+Processed+Zijun+Syn...\n",
       "\n",
       "[2268 rows x 2 columns]"
      ]
     },
     "execution_count": 71,
     "metadata": {},
     "output_type": "execute_result"
    }
   ],
   "source": [
    "real_image.image_infor"
   ]
  },
  {
   "cell_type": "code",
   "execution_count": 72,
   "metadata": {},
   "outputs": [],
   "source": [
    "str_dir = real_image.image_infor.iloc[0, 1]"
   ]
  },
  {
   "cell_type": "code",
   "execution_count": 73,
   "metadata": {},
   "outputs": [],
   "source": [
    "image_path = Path(str_dir.replace('+', '/'))"
   ]
  },
  {
   "cell_type": "code",
   "execution_count": 74,
   "metadata": {},
   "outputs": [],
   "source": [
    "update_path = image_path.relative_to(\"Z:/\")"
   ]
  },
  {
   "cell_type": "code",
   "execution_count": 75,
   "metadata": {},
   "outputs": [],
   "source": [
    "image_raw = Image.open(image_path).convert(\"L\")"
   ]
  },
  {
   "cell_type": "code",
   "execution_count": 76,
   "metadata": {},
   "outputs": [],
   "source": [
    "image_tensor = basic_transformations(image_raw)"
   ]
  },
  {
   "cell_type": "code",
   "execution_count": 77,
   "metadata": {},
   "outputs": [
    {
     "data": {
      "text/plain": [
       "torch.Size([1, 512, 512])"
      ]
     },
     "execution_count": 77,
     "metadata": {},
     "output_type": "execute_result"
    }
   ],
   "source": [
    "image_tensor.shape"
   ]
  },
  {
   "cell_type": "code",
   "execution_count": 78,
   "metadata": {},
   "outputs": [
    {
     "data": {
      "text/plain": [
       "tensor([[[61, 61, 60,  ..., 44, 44, 38],\n",
       "         [60, 61, 60,  ..., 44, 44, 38],\n",
       "         [60, 61, 60,  ..., 43, 44, 38],\n",
       "         ...,\n",
       "         [51, 51, 52,  ..., 54, 53, 46],\n",
       "         [49, 50, 52,  ..., 53, 53, 45],\n",
       "         [50, 50, 51,  ..., 53, 52, 43]]], dtype=torch.uint8)"
      ]
     },
     "execution_count": 78,
     "metadata": {},
     "output_type": "execute_result"
    }
   ],
   "source": [
    "image_tensor.to"
   ]
  },
  {
   "cell_type": "code",
   "execution_count": 14,
   "metadata": {},
   "outputs": [],
   "source": [
    "image_tensor = real_image[1]"
   ]
  },
  {
   "cell_type": "code",
   "execution_count": 82,
   "metadata": {},
   "outputs": [],
   "source": [
    "import torchvision.transforms as T"
   ]
  },
  {
   "cell_type": "code",
   "execution_count": 83,
   "metadata": {},
   "outputs": [],
   "source": [
    "open_image_as_tensor = lambda x: T.PILToTensor()(Image.open(x).convert(\"L\"))"
   ]
  },
  {
   "cell_type": "code",
   "execution_count": 84,
   "metadata": {},
   "outputs": [],
   "source": [
    "image_tensor = open_image_as_tensor(image_path)"
   ]
  },
  {
   "cell_type": "code",
   "execution_count": 85,
   "metadata": {},
   "outputs": [
    {
     "data": {
      "text/plain": [
       "torch.Size([1, 512, 512])"
      ]
     },
     "execution_count": 85,
     "metadata": {},
     "output_type": "execute_result"
    }
   ],
   "source": [
    "image_tensor.shape"
   ]
  },
  {
   "cell_type": "code",
   "execution_count": 88,
   "metadata": {},
   "outputs": [
    {
     "data": {
      "text/plain": [
       "'torch.ByteTensor'"
      ]
     },
     "execution_count": 88,
     "metadata": {},
     "output_type": "execute_result"
    }
   ],
   "source": [
    "image_tensor.type()"
   ]
  },
  {
   "cell_type": "code",
   "execution_count": 87,
   "metadata": {},
   "outputs": [
    {
     "data": {
      "text/plain": [
       "tensor([[[61., 61., 60.,  ..., 44., 44., 38.],\n",
       "         [60., 61., 60.,  ..., 44., 44., 38.],\n",
       "         [60., 61., 60.,  ..., 43., 44., 38.],\n",
       "         ...,\n",
       "         [51., 51., 52.,  ..., 54., 53., 46.],\n",
       "         [49., 50., 52.,  ..., 53., 53., 45.],\n",
       "         [50., 50., 51.,  ..., 53., 52., 43.]]])"
      ]
     },
     "execution_count": 87,
     "metadata": {},
     "output_type": "execute_result"
    }
   ],
   "source": [
    "image_tensor.float()"
   ]
  },
  {
   "cell_type": "code",
   "execution_count": 30,
   "metadata": {},
   "outputs": [],
   "source": [
    "transformation_dict = dict(zip(['None', 'basic'], [None,basic_transformations]))"
   ]
  },
  {
   "cell_type": "markdown",
   "metadata": {},
   "source": [
    "#### 2. The Generator input Dataset"
   ]
  },
  {
   "cell_type": "code",
   "execution_count": 24,
   "metadata": {},
   "outputs": [],
   "source": [
    "import torch"
   ]
  },
  {
   "cell_type": "code",
   "execution_count": 62,
   "metadata": {},
   "outputs": [],
   "source": [
    "# Define the root path\n",
    "def return_root_path():\n",
    "    \"\"\" Return the root path for data saving given the current OS \"\"\"\n",
    "    if Path.cwd().as_posix().startswith('/'):\n",
    "        return Path('/nfs/turbo/med-kayvan-lab/')\n",
    "    return Path('Z:/')\n",
    "\n",
    "# Obtain all the paths to the images from the csv file\n",
    "def get_image_infor(dir_list, file_name):\n",
    "    for i, dir_ in enumerate(dir_list):\n",
    "        image_infor = pd.read_csv(Path(dir_) / file_name)\n",
    "        if i == 0:\n",
    "            df_combined = image_infor\n",
    "        else:\n",
    "            df_combined = df_combined.append(image_infor)\n",
    "    return df_combined\n",
    "\n",
    "# Map the name of the transformation to the function\n",
    "transformation_dict = dict(zip(['None', 'basic'], [None, basic_transformations]))\n",
    "\n",
    "open_image_as_tensor = lambda x: T.PILToTensor()(Image.open(x).convert(\"L\"))\n",
    "\n",
    "class GeneratorInput(D.Dataset):\n",
    "    \"\"\"\n",
    "    Dataset for Generator Input, containing \n",
    "        the real bakcground image, \n",
    "        the synthetic volumn,\n",
    "        and the synthetic mask.\n",
    "    Input:\n",
    "        dir_list <list of python string>: include the directory of the images\n",
    "        file_name <python string>: the name of the csv file that contains the information of the image\n",
    "        transform <python string>: the name of the transformation\n",
    "    \"\"\"\n",
    "\n",
    "    def __init__(self, dir_list, transform='basic', file_name='stenosis_detail.csv'):\n",
    "        super(GeneratorInput, self).__init__()\n",
    "        self.image_infor = get_image_infor(dir_list, file_name)\n",
    "        self.root_path = return_root_path()\n",
    "        self.transform = transformation_dict[transform]\n",
    "        self.folder_col_id = self.image_infor.columns.get_loc('output_folder')\n",
    "\n",
    "    def adjust_dir(self, str_dir):\n",
    "        image_dir = Path(str_dir.replace('+', '/'))\n",
    "        return self.root_path / image_dir\n",
    "\n",
    "    def __getitem__(self, index):\n",
    "        str_dir = self.adjust_dir(self.image_infor.iloc[index, self.folder_col_id])    \n",
    "        image_volumn = open_image_as_tensor(str_dir/'volumn.png')\n",
    "        image_mask = open_image_as_tensor(str_dir/'mask.png')\n",
    "        image_background = open_image_as_tensor(str_dir/'background.png')\n",
    "        images = self.concatenate_image([image_volumn, image_mask, image_background])\n",
    "        return images\n",
    "\n",
    "    def __len__(self):\n",
    "        return len(self.image_infor)\n",
    "    \n",
    "    def concatenate_image(self, image_list):\n",
    "        return torch.cat(image_list, dim=0)"
   ]
  },
  {
   "cell_type": "code",
   "execution_count": 63,
   "metadata": {},
   "outputs": [],
   "source": [
    "# Retrive the column of dataframes with the given name\n",
    "def get_column_index_element(df, index, name):\n",
    "    return df.iloc[index, df.columns.get_loc(name)]\n"
   ]
  },
  {
   "cell_type": "code",
   "execution_count": 64,
   "metadata": {},
   "outputs": [],
   "source": [
    "ukr_dir=Path(r'Z:\\Projects\\Angiogram\\Data\\Processed\\Zijun\\Synthetic\\GAN_Data\\UKR')\n",
    "umr_dir=Path(r'Z:\\Projects\\Angiogram\\Data\\Processed\\Zijun\\Synthetic\\GAN_Data\\UoMR')\n",
    "dir_list = [umr_dir, ukr_dir]\n",
    "file_name = 'stenosis_detail.csv'\n",
    "real_image = GeneratorInput(dir_list, file_name=file_name)"
   ]
  },
  {
   "cell_type": "code",
   "execution_count": 65,
   "metadata": {},
   "outputs": [
    {
     "ename": "NameError",
     "evalue": "name 'T' is not defined",
     "output_type": "error",
     "traceback": [
      "\u001b[1;31m---------------------------------------------------------------------------\u001b[0m",
      "\u001b[1;31mNameError\u001b[0m                                 Traceback (most recent call last)",
      "\u001b[1;32m<ipython-input-65-65abccd15fd6>\u001b[0m in \u001b[0;36m<module>\u001b[1;34m\u001b[0m\n\u001b[1;32m----> 1\u001b[1;33m \u001b[0mimages\u001b[0m  \u001b[1;33m=\u001b[0m \u001b[0mreal_image\u001b[0m\u001b[1;33m[\u001b[0m\u001b[1;36m1\u001b[0m\u001b[1;33m]\u001b[0m\u001b[1;33m\u001b[0m\u001b[1;33m\u001b[0m\u001b[0m\n\u001b[0m",
      "\u001b[1;32m<ipython-input-62-1caf9d4b7597>\u001b[0m in \u001b[0;36m__getitem__\u001b[1;34m(self, index)\u001b[0m\n\u001b[0;32m     46\u001b[0m     \u001b[1;32mdef\u001b[0m \u001b[0m__getitem__\u001b[0m\u001b[1;33m(\u001b[0m\u001b[0mself\u001b[0m\u001b[1;33m,\u001b[0m \u001b[0mindex\u001b[0m\u001b[1;33m)\u001b[0m\u001b[1;33m:\u001b[0m\u001b[1;33m\u001b[0m\u001b[1;33m\u001b[0m\u001b[0m\n\u001b[0;32m     47\u001b[0m         \u001b[0mstr_dir\u001b[0m \u001b[1;33m=\u001b[0m \u001b[0mself\u001b[0m\u001b[1;33m.\u001b[0m\u001b[0madjust_dir\u001b[0m\u001b[1;33m(\u001b[0m\u001b[0mself\u001b[0m\u001b[1;33m.\u001b[0m\u001b[0mimage_infor\u001b[0m\u001b[1;33m.\u001b[0m\u001b[0miloc\u001b[0m\u001b[1;33m[\u001b[0m\u001b[0mindex\u001b[0m\u001b[1;33m,\u001b[0m \u001b[0mself\u001b[0m\u001b[1;33m.\u001b[0m\u001b[0mfolder_col_id\u001b[0m\u001b[1;33m]\u001b[0m\u001b[1;33m)\u001b[0m\u001b[1;33m\u001b[0m\u001b[1;33m\u001b[0m\u001b[0m\n\u001b[1;32m---> 48\u001b[1;33m         \u001b[0mimage_volumn\u001b[0m \u001b[1;33m=\u001b[0m \u001b[0mopen_image_as_tensor\u001b[0m\u001b[1;33m(\u001b[0m\u001b[0mstr_dir\u001b[0m\u001b[1;33m/\u001b[0m\u001b[1;34m'volumn.png'\u001b[0m\u001b[1;33m)\u001b[0m\u001b[1;33m\u001b[0m\u001b[1;33m\u001b[0m\u001b[0m\n\u001b[0m\u001b[0;32m     49\u001b[0m         \u001b[0mimage_mask\u001b[0m \u001b[1;33m=\u001b[0m \u001b[0mopen_image_as_tensor\u001b[0m\u001b[1;33m(\u001b[0m\u001b[0mstr_dir\u001b[0m\u001b[1;33m/\u001b[0m\u001b[1;34m'mask.png'\u001b[0m\u001b[1;33m)\u001b[0m\u001b[1;33m\u001b[0m\u001b[1;33m\u001b[0m\u001b[0m\n\u001b[0;32m     50\u001b[0m         \u001b[0mimage_background\u001b[0m \u001b[1;33m=\u001b[0m \u001b[0mopen_image_as_tensor\u001b[0m\u001b[1;33m(\u001b[0m\u001b[0mstr_dir\u001b[0m\u001b[1;33m/\u001b[0m\u001b[1;34m'background.png'\u001b[0m\u001b[1;33m)\u001b[0m\u001b[1;33m\u001b[0m\u001b[1;33m\u001b[0m\u001b[0m\n",
      "\u001b[1;32m<ipython-input-62-1caf9d4b7597>\u001b[0m in \u001b[0;36m<lambda>\u001b[1;34m(x)\u001b[0m\n\u001b[0;32m     19\u001b[0m \u001b[0mtransformation_dict\u001b[0m \u001b[1;33m=\u001b[0m \u001b[0mdict\u001b[0m\u001b[1;33m(\u001b[0m\u001b[0mzip\u001b[0m\u001b[1;33m(\u001b[0m\u001b[1;33m[\u001b[0m\u001b[1;34m'None'\u001b[0m\u001b[1;33m,\u001b[0m \u001b[1;34m'basic'\u001b[0m\u001b[1;33m]\u001b[0m\u001b[1;33m,\u001b[0m \u001b[1;33m[\u001b[0m\u001b[1;32mNone\u001b[0m\u001b[1;33m,\u001b[0m \u001b[0mbasic_transformations\u001b[0m\u001b[1;33m]\u001b[0m\u001b[1;33m)\u001b[0m\u001b[1;33m)\u001b[0m\u001b[1;33m\u001b[0m\u001b[1;33m\u001b[0m\u001b[0m\n\u001b[0;32m     20\u001b[0m \u001b[1;33m\u001b[0m\u001b[0m\n\u001b[1;32m---> 21\u001b[1;33m \u001b[0mopen_image_as_tensor\u001b[0m \u001b[1;33m=\u001b[0m \u001b[1;32mlambda\u001b[0m \u001b[0mx\u001b[0m\u001b[1;33m:\u001b[0m \u001b[0mT\u001b[0m\u001b[1;33m.\u001b[0m\u001b[0mPILToTensor\u001b[0m\u001b[1;33m(\u001b[0m\u001b[1;33m)\u001b[0m\u001b[1;33m(\u001b[0m\u001b[0mImage\u001b[0m\u001b[1;33m.\u001b[0m\u001b[0mopen\u001b[0m\u001b[1;33m(\u001b[0m\u001b[0mx\u001b[0m\u001b[1;33m)\u001b[0m\u001b[1;33m.\u001b[0m\u001b[0mconvert\u001b[0m\u001b[1;33m(\u001b[0m\u001b[1;34m\"L\"\u001b[0m\u001b[1;33m)\u001b[0m\u001b[1;33m)\u001b[0m\u001b[1;33m\u001b[0m\u001b[1;33m\u001b[0m\u001b[0m\n\u001b[0m\u001b[0;32m     22\u001b[0m \u001b[1;33m\u001b[0m\u001b[0m\n\u001b[0;32m     23\u001b[0m \u001b[1;32mclass\u001b[0m \u001b[0mGeneratorInput\u001b[0m\u001b[1;33m(\u001b[0m\u001b[0mD\u001b[0m\u001b[1;33m.\u001b[0m\u001b[0mDataset\u001b[0m\u001b[1;33m)\u001b[0m\u001b[1;33m:\u001b[0m\u001b[1;33m\u001b[0m\u001b[1;33m\u001b[0m\u001b[0m\n",
      "\u001b[1;31mNameError\u001b[0m: name 'T' is not defined"
     ]
    }
   ],
   "source": [
    "images  = real_image[1]"
   ]
  },
  {
   "cell_type": "code",
   "execution_count": 40,
   "metadata": {},
   "outputs": [
    {
     "data": {
      "text/plain": [
       "torch.Size([3, 512, 512])"
      ]
     },
     "execution_count": 40,
     "metadata": {},
     "output_type": "execute_result"
    }
   ],
   "source": [
    "images.shape"
   ]
  },
  {
   "cell_type": "code",
   "execution_count": 36,
   "metadata": {},
   "outputs": [],
   "source": [
    "concatnated_images = torch.cat([real_image[i].unsqueeze(0) for i in range(4)], dim=0)"
   ]
  },
  {
   "cell_type": "code",
   "execution_count": 38,
   "metadata": {},
   "outputs": [
    {
     "data": {
      "text/plain": [
       "torch.Size([4, 3, 512, 512])"
      ]
     },
     "execution_count": 38,
     "metadata": {},
     "output_type": "execute_result"
    }
   ],
   "source": [
    "concatnated_images.shape"
   ]
  },
  {
   "cell_type": "code",
   "execution_count": 1,
   "metadata": {},
   "outputs": [],
   "source": [
    "from pathlib import Path\n"
   ]
  },
  {
   "cell_type": "code",
   "execution_count": 2,
   "metadata": {},
   "outputs": [],
   "source": [
    "umr_dir=Path(r'Z:\\Projects\\Angiogram\\Data\\Processed\\Zijun\\Synthetic\\GAN_Data\\UoMR')"
   ]
  },
  {
   "cell_type": "code",
   "execution_count": 3,
   "metadata": {},
   "outputs": [
    {
     "data": {
      "text/plain": [
       "WindowsPath('/Projects/Angiogram/Data/Processed/Zijun/Synthetic/GAN_Data/UoMR')"
      ]
     },
     "execution_count": 3,
     "metadata": {},
     "output_type": "execute_result"
    }
   ],
   "source": [
    "umr_dir.relative_to(Path('Z:'))"
   ]
  },
  {
   "attachments": {},
   "cell_type": "markdown",
   "metadata": {},
   "source": [
    "### The dataloader"
   ]
  },
  {
   "cell_type": "code",
   "execution_count": 5,
   "metadata": {},
   "outputs": [],
   "source": [
    "import torch.utils.data as module_dataloader"
   ]
  },
  {
   "cell_type": "code",
   "execution_count": 55,
   "metadata": {},
   "outputs": [],
   "source": [
    "variables = {'batch_size': 4,\n",
    "    'collate_fn':module_dataloader.dataloader.default_collate,\n",
    "    'sampler':module_dataloader.sampler.RandomSampler(range(len(real_image))),\n",
    "    'drop_last':True,\n",
    "    'shuffle':False}"
   ]
  },
  {
   "cell_type": "code",
   "execution_count": 51,
   "metadata": {},
   "outputs": [
    {
     "data": {
      "text/plain": [
       "2268"
      ]
     },
     "execution_count": 51,
     "metadata": {},
     "output_type": "execute_result"
    }
   ],
   "source": [
    "len(real_image)"
   ]
  },
  {
   "cell_type": "code",
   "execution_count": 52,
   "metadata": {},
   "outputs": [
    {
     "data": {
      "text/plain": [
       "torch.Size([1, 512, 512])"
      ]
     },
     "execution_count": 52,
     "metadata": {},
     "output_type": "execute_result"
    }
   ],
   "source": [
    "real_image[1].shape"
   ]
  },
  {
   "cell_type": "code",
   "execution_count": 61,
   "metadata": {},
   "outputs": [
    {
     "data": {
      "text/plain": [
       "'torch.FloatTensor'"
      ]
     },
     "execution_count": 61,
     "metadata": {},
     "output_type": "execute_result"
    }
   ],
   "source": [
    "real_image[1].float().type()"
   ]
  },
  {
   "cell_type": "code",
   "execution_count": 53,
   "metadata": {},
   "outputs": [],
   "source": [
    "import torch "
   ]
  },
  {
   "cell_type": "code",
   "execution_count": 56,
   "metadata": {},
   "outputs": [],
   "source": [
    "real_image_dataloader = torch.utils.data.DataLoader(real_image, **variables)"
   ]
  },
  {
   "cell_type": "code",
   "execution_count": 57,
   "metadata": {},
   "outputs": [
    {
     "data": {
      "text/plain": [
       "567"
      ]
     },
     "execution_count": 57,
     "metadata": {},
     "output_type": "execute_result"
    }
   ],
   "source": [
    "len(real_image_dataloader)"
   ]
  },
  {
   "cell_type": "code",
   "execution_count": 33,
   "metadata": {},
   "outputs": [
    {
     "data": {
      "text/plain": [
       "<__main__.RealImage at 0x20d2327fb00>"
      ]
     },
     "execution_count": 33,
     "metadata": {},
     "output_type": "execute_result"
    }
   ],
   "source": [
    "real_image_dataloader.dataset"
   ]
  },
  {
   "cell_type": "code",
   "execution_count": 35,
   "metadata": {},
   "outputs": [],
   "source": [
    "dataset1 = torch.tensor([0, 1, 2, 3, 4, 5])\n",
    "dataset2 = torch.tensor([10, 11, 12, 13, 14, 15, 16, 17,23, 123, 25, 34, 56, 78, 89])\n",
    "\n",
    "dataloader1 = torch.utils.data.DataLoader(dataset1, **variables)\n",
    "dataloader2 = torch.utils.data.DataLoader(dataset2, **variables)"
   ]
  },
  {
   "cell_type": "code",
   "execution_count": 37,
   "metadata": {},
   "outputs": [],
   "source": [
    "dataloader1 = torch.utils.data.DataLoader(dataset1, batch_size=2, shuffle=True, num_workers=3)"
   ]
  },
  {
   "cell_type": "code",
   "execution_count": 38,
   "metadata": {},
   "outputs": [
    {
     "data": {
      "text/plain": [
       "3"
      ]
     },
     "execution_count": 38,
     "metadata": {},
     "output_type": "execute_result"
    }
   ],
   "source": [
    "len(dataloader1)"
   ]
  },
  {
   "cell_type": "code",
   "execution_count": null,
   "metadata": {},
   "outputs": [],
   "source": []
  }
 ],
 "metadata": {
  "kernelspec": {
   "display_name": "Python 3.6.8 ('digit')",
   "language": "python",
   "name": "python3"
  },
  "language_info": {
   "codemirror_mode": {
    "name": "ipython",
    "version": 3
   },
   "file_extension": ".py",
   "mimetype": "text/x-python",
   "name": "python",
   "nbconvert_exporter": "python",
   "pygments_lexer": "ipython3",
   "version": "3.6.8 |Anaconda, Inc.| (default, Feb 21 2019, 18:30:04) [MSC v.1916 64 bit (AMD64)]"
  },
  "orig_nbformat": 4,
  "vscode": {
   "interpreter": {
    "hash": "f61e0a8fe4dea7226de18c6503f360d9c71c7a34958c2f40ba60d7ca77fac524"
   }
  }
 },
 "nbformat": 4,
 "nbformat_minor": 2
}
