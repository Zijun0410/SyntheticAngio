{
 "cells": [
  {
   "cell_type": "markdown",
   "metadata": {},
   "source": [
    "## Create default diameters and default reference points for main vessel"
   ]
  },
  {
   "cell_type": "code",
   "execution_count": 27,
   "metadata": {},
   "outputs": [],
   "source": [
    "baseline_radii = [1.8, 1.6, 1.5, 1.45, 1.4, 1.35, 1.3, 1.25, 1.1, 0.9, 0.7, 0.5, 0.3]\n",
    "ref_point = len(baseline_radii)\n",
    "positions_prep = list(range(0,ref_point,1))\n",
    "positions = [round(i/(ref_point-1),2) for i in positions_prep]"
   ]
  },
  {
   "cell_type": "code",
   "execution_count": 28,
   "metadata": {},
   "outputs": [
    {
     "name": "stdout",
     "output_type": "stream",
     "text": [
      "[0.0, 0.08, 0.17, 0.25, 0.33, 0.42, 0.5, 0.58, 0.67, 0.75, 0.83, 0.92, 1.0]\n"
     ]
    }
   ],
   "source": [
    "print(positions)"
   ]
  },
  {
   "cell_type": "markdown",
   "metadata": {},
   "source": [
    "## Get input from User"
   ]
  },
  {
   "cell_type": "code",
   "execution_count": 29,
   "metadata": {},
   "outputs": [],
   "source": [
    "stenosis_point = 0.63\n",
    "effect_region = 0.02\n",
    "percentage = 0.7"
   ]
  },
  {
   "cell_type": "markdown",
   "metadata": {},
   "source": [
    "## Make change to the radius and reference position based on the stenosis information"
   ]
  },
  {
   "cell_type": "code",
   "execution_count": 35,
   "metadata": {},
   "outputs": [],
   "source": [
    "stenosis_region_start = stenosis_point - effect_region\n",
    "stenosis_region_end = stenosis_point + effect_region\n",
    "# Some restrictions: \n",
    "# stenosis_region_end < 1\n",
    "# stenosis_region_start > 0 \n",
    "# TODO:\n",
    "# Avoid the subbranch regions\n",
    "\n",
    "# Obtain the indice of the reference points that fall into the stenosis range\n",
    "indice_within_region = []\n",
    "# Obtain the indice of the reference points that closest to the stenosis point\n",
    "for index, pos in enumerate(positions):\n",
    "    if stenosis_region_start <= pos <= stenosis_region_end:\n",
    "        indice_within_region.append(index)\n",
    "    if pos == 0.58:\n",
    "        break\n",
    "    if pos <= stenosis_point < positions[index+1]:\n",
    "        stenosis_relative_indices = (index, index+1)"
   ]
  },
  {
   "cell_type": "code",
   "execution_count": null,
   "metadata": {},
   "outputs": [],
   "source": [
    "def get_radii(target_point, positions, baseline_radii):\n",
    "    for index, pos in enumerate(positions):\n",
    "        if pos <= target_point < positions[index+1]:\n",
    "            relative_indice = (index, index+1)\n",
    "            ref_position = positions[index:index+2]\n",
    "            ref_radii = baseline_radii[index:index+2]\n",
    "    target_radii = ref_radii[0] - (target_point - ref_position[0])*(ref_radii[0] - ref_radii[1])/(ref_position[1] - ref_position[0])\n",
    "    return target_radii"
   ]
  },
  {
   "cell_type": "code",
   "execution_count": null,
   "metadata": {},
   "outputs": [],
   "source": [
    "start_radii = round(get_radii(stenosis_region_start, positions, baseline_radii),2)\n",
    "stenosis_radii = round((1-percentage)*get_radii(stenosis_point, positions, baseline_radii),2)\n",
    "end_radii = round(get_radii(stenosis_region_end, positions, baseline_radii),2)\n",
    "\n",
    "if len(indice_within_region) == 0:\n",
    "    # None of the original reference points fall into the stenosis region, \n",
    "    # to create a stenosis, add three additional reference points to the \n",
    "    # point list at the position of the stenosis_relative_indices\n",
    "    ref_index = stenosis_relative_indices[1]\n",
    "    positions[ref_index:ref_index] = [stenosis_region_start, stenosis_point, stenosis_region_end]   \n",
    "    baseline_radii[ref_index:ref_index] = [start_radii, stenosis_radii, end_radii]\n",
    "else:\n",
    "    # One or more of the original reference points fall into the stenosis region, \n",
    "    # replace them with the stenosis region reference points\n",
    "    positions[min(indice_within_region):max(indice_within_region)+1] = [stenosis_region_start, stenosis_point, stenosis_region_end]\n",
    "    baseline_radii[min(indice_within_region):max(indice_within_region)+1] = [start_radii, stenosis_radii, end_radii]"
   ]
  },
  {
   "cell_type": "markdown",
   "metadata": {},
   "source": [
    "## Generate the final functions"
   ]
  },
  {
   "cell_type": "code",
   "execution_count": 45,
   "metadata": {},
   "outputs": [],
   "source": [
    "baseline_radii = [1.8, 1.6, 1.5, 1.45, 1.4, 1.35, 1.3, 1.25, 1.1, 0.9, 0.7, 0.5, 0.3]\n",
    "\n",
    "def get_radii(target_point, positions, baseline_radii):\n",
    "    for index, pos in enumerate(positions):\n",
    "        if pos <= target_point < positions[index+1]:\n",
    "            relative_indice = (index, index+1)\n",
    "            ref_position = positions[index:index+2]\n",
    "            ref_radii = baseline_radii[index:index+2]\n",
    "    target_radii = ref_radii[0] - (target_point - ref_position[0])*(ref_radii[0] - ref_radii[1])/(ref_position[1] - ref_position[0])\n",
    "    return target_radii\n",
    "\n",
    "def generate_stenosis(baseline_radii, stenosis_point, effect_region, percentage):\n",
    "    ref_point = len(baseline_radii)\n",
    "    positions_prep = list(range(0,ref_point,1))\n",
    "    positions = [round(i/(ref_point-1),2) for i in positions_prep]\n",
    "    \n",
    "    stenosis_region_start = stenosis_point - effect_region\n",
    "    stenosis_region_end = stenosis_point + effect_region\n",
    "    \n",
    "    # Obtain the indice of the reference points that fall into the stenosis range\n",
    "    indice_within_region = []\n",
    "    # Obtain the indice of the reference points that closest to the stenosis point\n",
    "    for index, pos in enumerate(positions):\n",
    "        if stenosis_region_start <= pos <= stenosis_region_end:\n",
    "            indice_within_region.append(index)\n",
    "        if pos <= stenosis_point < positions[index+1]:\n",
    "            stenosis_relative_indices = (index, index+1)\n",
    "            \n",
    "    # print(indice_within_region)\n",
    "    start_radii = round(get_radii(stenosis_region_start, positions, baseline_radii),2)\n",
    "    stenosis_radii = round((1-percentage)*get_radii(stenosis_point, positions, baseline_radii),2)\n",
    "    end_radii = round(get_radii(stenosis_region_end, positions, baseline_radii),2)\n",
    "\n",
    "    if len(indice_within_region) == 0:\n",
    "        # None of the original reference points fall into the stenosis region, \n",
    "        # to create a stenosis, add three additional reference points to the \n",
    "        # point list at the position of the stenosis_relative_indices\n",
    "        ref_index = stenosis_relative_indices[1]\n",
    "        positions[ref_index:ref_index] = [stenosis_region_start, stenosis_point, stenosis_region_end]   \n",
    "        baseline_radii[ref_index:ref_index] = [start_radii, stenosis_radii, end_radii]\n",
    "    else:\n",
    "        # One or more of the original reference points fall into the stenosis region, \n",
    "        # replace them with the stenosis region reference points\n",
    "        positions[min(indice_within_region):max(indice_within_region)+1] = [stenosis_region_start, stenosis_point, stenosis_region_end]\n",
    "        baseline_radii[min(indice_within_region):max(indice_within_region)+1] = [start_radii, stenosis_radii, end_radii]\n",
    "    positions_out = [round(position,2) for position in positions]\n",
    "    return positions_out, baseline_radii\n",
    "\n",
    "positions_param, positions_radii = generate_stenosis(baseline_radii, stenosis_point, effect_region, percentage)\n"
   ]
  }
 ],
 "metadata": {
  "kernelspec": {
   "display_name": "Python 3",
   "language": "python",
   "name": "python3"
  },
  "language_info": {
   "codemirror_mode": {
    "name": "ipython",
    "version": 3
   },
   "file_extension": ".py",
   "mimetype": "text/x-python",
   "name": "python",
   "nbconvert_exporter": "python",
   "pygments_lexer": "ipython3",
   "version": "3.7.4"
  }
 },
 "nbformat": 4,
 "nbformat_minor": 4
}
