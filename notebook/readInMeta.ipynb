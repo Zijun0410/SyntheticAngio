{
 "cells": [
  {
   "cell_type": "code",
   "execution_count": 1,
   "metadata": {},
   "outputs": [],
   "source": [
    "import os"
   ]
  },
  {
   "cell_type": "code",
   "execution_count": 19,
   "metadata": {},
   "outputs": [],
   "source": [
    "baseDir = r'C:\\Users\\gaozj\\Desktop\\Angio\\SyntheticAngio\\data'\n",
    "storageDict = dict()\n",
    "with open(os.path.join(baseDir,'meta_summary.csv'), 'r') as fileHandle:\n",
    "    lineIndex = 0\n",
    "    metaDataList = []\n",
    "    lines = fileHandle.readlines()\n",
    "    for line in lines:\n",
    "        metaData = line.strip().split(',')\n",
    "        if lineIndex == 0:\n",
    "            nameList = metaData\n",
    "        dataIndex = 0\n",
    "        for iData in metaData:\n",
    "            if lineIndex == 0:\n",
    "                storageDict[dataIndex] = []\n",
    "            else:\n",
    "                storageDict[dataIndex].append(iData)\n",
    "            dataIndex += 1\n",
    "        lineIndex += 1\n",
    "storageDict = dict(zip(nameList, list(storageDict.values())))"
   ]
  },
  {
   "cell_type": "code",
   "execution_count": 23,
   "metadata": {},
   "outputs": [],
   "source": [
    "import random"
   ]
  },
  {
   "cell_type": "code",
   "execution_count": 26,
   "metadata": {},
   "outputs": [],
   "source": [
    "low = 0.01\n",
    "high = 0.02\n",
    "ran_number = random.uniform(low, high)"
   ]
  },
  {
   "cell_type": "code",
   "execution_count": 27,
   "metadata": {},
   "outputs": [
    {
     "data": {
      "text/plain": [
       "0.011571205772349777"
      ]
     },
     "execution_count": 27,
     "metadata": {},
     "output_type": "execute_result"
    }
   ],
   "source": [
    "ran_number"
   ]
  }
 ],
 "metadata": {
  "kernelspec": {
   "display_name": "Python 3",
   "language": "python",
   "name": "python3"
  },
  "language_info": {
   "codemirror_mode": {
    "name": "ipython",
    "version": 3
   },
   "file_extension": ".py",
   "mimetype": "text/x-python",
   "name": "python",
   "nbconvert_exporter": "python",
   "pygments_lexer": "ipython3",
   "version": "3.7.4"
  }
 },
 "nbformat": 4,
 "nbformat_minor": 4
}
