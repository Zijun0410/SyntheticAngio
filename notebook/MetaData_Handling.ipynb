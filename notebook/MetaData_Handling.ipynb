{
 "cells": [
  {
   "cell_type": "markdown",
   "metadata": {},
   "source": [
    "### Readin Metadata by CSV"
   ]
  },
  {
   "cell_type": "code",
   "execution_count": 1,
   "metadata": {},
   "outputs": [],
   "source": [
    "import os"
   ]
  },
  {
   "cell_type": "code",
   "execution_count": 19,
   "metadata": {},
   "outputs": [],
   "source": [
    "baseDir = r'C:\\Users\\gaozj\\Desktop\\Angio\\SyntheticAngio\\data'\n",
    "storageDict = dict()\n",
    "with open(os.path.join(baseDir,'meta_summary.csv'), 'r') as fileHandle:\n",
    "    lineIndex = 0\n",
    "    metaDataList = []\n",
    "    lines = fileHandle.readlines()\n",
    "    for line in lines:\n",
    "        metaData = line.strip().split(',')\n",
    "        if lineIndex == 0:\n",
    "            nameList = metaData\n",
    "        dataIndex = 0\n",
    "        for iData in metaData:\n",
    "            if lineIndex == 0:\n",
    "                storageDict[dataIndex] = []\n",
    "            else:\n",
    "                storageDict[dataIndex].append(iData)\n",
    "            dataIndex += 1\n",
    "        lineIndex += 1\n",
    "storageDict = dict(zip(nameList, list(storageDict.values())))"
   ]
  },
  {
   "cell_type": "code",
   "execution_count": 23,
   "metadata": {},
   "outputs": [],
   "source": [
    "import random"
   ]
  },
  {
   "cell_type": "code",
   "execution_count": 26,
   "metadata": {},
   "outputs": [],
   "source": [
    "low = 0.01\n",
    "high = 0.02\n",
    "ran_number = random.uniform(low, high)"
   ]
  },
  {
   "cell_type": "code",
   "execution_count": 27,
   "metadata": {},
   "outputs": [
    {
     "data": {
      "text/plain": [
       "0.011571205772349777"
      ]
     },
     "execution_count": 27,
     "metadata": {},
     "output_type": "execute_result"
    }
   ],
   "source": [
    "ran_number"
   ]
  },
  {
   "cell_type": "markdown",
   "metadata": {},
   "source": [
    "### Get the mean value of Primary and Secondary angles"
   ]
  },
  {
   "cell_type": "code",
   "execution_count": 1,
   "metadata": {},
   "outputs": [],
   "source": [
    "import pandas as pd"
   ]
  },
  {
   "cell_type": "code",
   "execution_count": 2,
   "metadata": {},
   "outputs": [],
   "source": [
    "from pathlib import Path"
   ]
  },
  {
   "cell_type": "code",
   "execution_count": 4,
   "metadata": {},
   "outputs": [],
   "source": [
    "metaData = pd.read_csv(Path(r'C:\\Users\\gaozj\\Desktop\\Angio\\SyntheticAngio\\data')/'meta_summary.csv')"
   ]
  },
  {
   "cell_type": "code",
   "execution_count": 5,
   "metadata": {},
   "outputs": [
    {
     "data": {
      "text/html": [
       "<div>\n",
       "<style scoped>\n",
       "    .dataframe tbody tr th:only-of-type {\n",
       "        vertical-align: middle;\n",
       "    }\n",
       "\n",
       "    .dataframe tbody tr th {\n",
       "        vertical-align: top;\n",
       "    }\n",
       "\n",
       "    .dataframe thead th {\n",
       "        text-align: right;\n",
       "    }\n",
       "</style>\n",
       "<table border=\"1\" class=\"dataframe\">\n",
       "  <thead>\n",
       "    <tr style=\"text-align: right;\">\n",
       "      <th></th>\n",
       "      <th>FileName</th>\n",
       "      <th>CenterX</th>\n",
       "      <th>CenterY</th>\n",
       "      <th>Width</th>\n",
       "      <th>Height</th>\n",
       "      <th>PositionerPrimaryAngle</th>\n",
       "      <th>PositionerSecondaryAngle</th>\n",
       "      <th>DistanceSourceToDetector</th>\n",
       "      <th>DistanceSourceToPatient</th>\n",
       "      <th>EstimatedRadiographicMagnificationFactor</th>\n",
       "      <th>ExposureTime</th>\n",
       "      <th>TableHeight</th>\n",
       "      <th>DistanceObjectToTableTop</th>\n",
       "      <th>BeamAngle</th>\n",
       "    </tr>\n",
       "  </thead>\n",
       "  <tbody>\n",
       "    <tr>\n",
       "      <td>0</td>\n",
       "      <td>001 (7)_R</td>\n",
       "      <td>209.5</td>\n",
       "      <td>119.5</td>\n",
       "      <td>20</td>\n",
       "      <td>20</td>\n",
       "      <td>41.1</td>\n",
       "      <td>2.3</td>\n",
       "      <td>1003</td>\n",
       "      <td>924.281353</td>\n",
       "      <td>1.085167</td>\n",
       "      <td>435</td>\n",
       "      <td>-1</td>\n",
       "      <td>-1</td>\n",
       "      <td>-1</td>\n",
       "    </tr>\n",
       "    <tr>\n",
       "      <td>1</td>\n",
       "      <td>001 (8)_R</td>\n",
       "      <td>200.5</td>\n",
       "      <td>78.5</td>\n",
       "      <td>20</td>\n",
       "      <td>20</td>\n",
       "      <td>21.1</td>\n",
       "      <td>20.1</td>\n",
       "      <td>1036</td>\n",
       "      <td>898.964099</td>\n",
       "      <td>1.152438</td>\n",
       "      <td>408</td>\n",
       "      <td>-1</td>\n",
       "      <td>-1</td>\n",
       "      <td>-1</td>\n",
       "    </tr>\n",
       "    <tr>\n",
       "      <td>2</td>\n",
       "      <td>001 (9)_R</td>\n",
       "      <td>230.5</td>\n",
       "      <td>129.5</td>\n",
       "      <td>20</td>\n",
       "      <td>20</td>\n",
       "      <td>-35.5</td>\n",
       "      <td>0.4</td>\n",
       "      <td>1019</td>\n",
       "      <td>910.719422</td>\n",
       "      <td>1.118896</td>\n",
       "      <td>346</td>\n",
       "      <td>-1</td>\n",
       "      <td>-1</td>\n",
       "      <td>-1</td>\n",
       "    </tr>\n",
       "    <tr>\n",
       "      <td>3</td>\n",
       "      <td>002 (10)_R</td>\n",
       "      <td>253.5</td>\n",
       "      <td>160.5</td>\n",
       "      <td>20</td>\n",
       "      <td>20</td>\n",
       "      <td>22.2</td>\n",
       "      <td>20.7</td>\n",
       "      <td>1004</td>\n",
       "      <td>849.943933</td>\n",
       "      <td>1.181254</td>\n",
       "      <td>402</td>\n",
       "      <td>-1</td>\n",
       "      <td>-1</td>\n",
       "      <td>-1</td>\n",
       "    </tr>\n",
       "    <tr>\n",
       "      <td>4</td>\n",
       "      <td>002 (11)_R</td>\n",
       "      <td>244.5</td>\n",
       "      <td>98.5</td>\n",
       "      <td>20</td>\n",
       "      <td>20</td>\n",
       "      <td>-38.7</td>\n",
       "      <td>-0.7</td>\n",
       "      <td>1022</td>\n",
       "      <td>861.430187</td>\n",
       "      <td>1.186399</td>\n",
       "      <td>388</td>\n",
       "      <td>-1</td>\n",
       "      <td>-1</td>\n",
       "      <td>-1</td>\n",
       "    </tr>\n",
       "  </tbody>\n",
       "</table>\n",
       "</div>"
      ],
      "text/plain": [
       "     FileName  CenterX  CenterY  Width  Height  PositionerPrimaryAngle  \\\n",
       "0   001 (7)_R    209.5    119.5     20      20                    41.1   \n",
       "1   001 (8)_R    200.5     78.5     20      20                    21.1   \n",
       "2   001 (9)_R    230.5    129.5     20      20                   -35.5   \n",
       "3  002 (10)_R    253.5    160.5     20      20                    22.2   \n",
       "4  002 (11)_R    244.5     98.5     20      20                   -38.7   \n",
       "\n",
       "   PositionerSecondaryAngle  DistanceSourceToDetector  \\\n",
       "0                       2.3                      1003   \n",
       "1                      20.1                      1036   \n",
       "2                       0.4                      1019   \n",
       "3                      20.7                      1004   \n",
       "4                      -0.7                      1022   \n",
       "\n",
       "   DistanceSourceToPatient  EstimatedRadiographicMagnificationFactor  \\\n",
       "0               924.281353                                  1.085167   \n",
       "1               898.964099                                  1.152438   \n",
       "2               910.719422                                  1.118896   \n",
       "3               849.943933                                  1.181254   \n",
       "4               861.430187                                  1.186399   \n",
       "\n",
       "   ExposureTime  TableHeight  DistanceObjectToTableTop  BeamAngle  \n",
       "0           435           -1                        -1         -1  \n",
       "1           408           -1                        -1         -1  \n",
       "2           346           -1                        -1         -1  \n",
       "3           402           -1                        -1         -1  \n",
       "4           388           -1                        -1         -1  "
      ]
     },
     "execution_count": 5,
     "metadata": {},
     "output_type": "execute_result"
    }
   ],
   "source": [
    "metaData.head()"
   ]
  },
  {
   "cell_type": "code",
   "execution_count": 11,
   "metadata": {},
   "outputs": [
    {
     "data": {
      "text/plain": [
       "1040.3024911032028"
      ]
     },
     "execution_count": 11,
     "metadata": {},
     "output_type": "execute_result"
    }
   ],
   "source": [
    "metaData.loc[metaData.DistanceSourceToDetector!=-1,:].DistanceSourceToDetector.mean()"
   ]
  },
  {
   "cell_type": "code",
   "execution_count": 12,
   "metadata": {},
   "outputs": [
    {
     "data": {
      "text/plain": [
       "776.458435612355"
      ]
     },
     "execution_count": 12,
     "metadata": {},
     "output_type": "execute_result"
    }
   ],
   "source": [
    "metaData.loc[metaData.DistanceSourceToPatient!=-1,:].DistanceSourceToPatient.mean()"
   ]
  },
  {
   "cell_type": "code",
   "execution_count": null,
   "metadata": {},
   "outputs": [],
   "source": []
  }
 ],
 "metadata": {
  "kernelspec": {
   "display_name": "Python 3",
   "language": "python",
   "name": "python3"
  },
  "language_info": {
   "codemirror_mode": {
    "name": "ipython",
    "version": 3
   },
   "file_extension": ".py",
   "mimetype": "text/x-python",
   "name": "python",
   "nbconvert_exporter": "python",
   "pygments_lexer": "ipython3",
   "version": "3.7.4"
  }
 },
 "nbformat": 4,
 "nbformat_minor": 4
}
